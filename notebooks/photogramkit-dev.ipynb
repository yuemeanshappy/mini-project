{
 "cells": [
  {
   "cell_type": "markdown",
   "id": "b55edcd8",
   "metadata": {},
   "source": [
    "# Step1: Extract time from photos"
   ]
  },
  {
   "cell_type": "markdown",
   "id": "bcb2ec20",
   "metadata": {},
   "source": [
    "## 1.1 extract Exif data from a photo's timestamp"
   ]
  },
  {
   "cell_type": "code",
   "execution_count": 1,
   "id": "04dcfcd0",
   "metadata": {},
   "outputs": [],
   "source": [
    "from exiftool import ExifTool # only need the ExifTool Class within the exiftool package\n",
    "from datetime import datetime, timedelta # convert time strings into timestamps"
   ]
  },
  {
   "cell_type": "code",
   "execution_count": 2,
   "id": "d9633f3e",
   "metadata": {},
   "outputs": [],
   "source": [
    "# extract metadata\n",
    "# get_metadata() is an instance method, so it requires an actual instance (object) of ExifTool to be invoked. \n",
    "with ExifTool() as et: \n",
    "    metadata = et.get_metadata(\"../example-data/photos-sdcards/071224/bottom/IMG_0851.CR3\")"
   ]
  },
  {
   "cell_type": "code",
   "execution_count": 3,
   "id": "0240c8b6",
   "metadata": {},
   "outputs": [
    {
     "data": {
      "text/plain": [
       "'2024:07:03 07:55:23'"
      ]
     },
     "execution_count": 3,
     "metadata": {},
     "output_type": "execute_result"
    }
   ],
   "source": [
    "# get year/month/date/ hours/minutes/seconds\n",
    "datetime_original = metadata.get(\"EXIF:DateTimeOriginal\")\n",
    "datetime_original"
   ]
  },
  {
   "cell_type": "code",
   "execution_count": 4,
   "id": "d8dec644",
   "metadata": {},
   "outputs": [
    {
     "data": {
      "text/plain": [
       "25"
      ]
     },
     "execution_count": 4,
     "metadata": {},
     "output_type": "execute_result"
    }
   ],
   "source": [
    "# get miliseconds\n",
    "subsec_time_original = metadata.get(\"EXIF:SubSecTimeOriginal\")\n",
    "subsec_time_original"
   ]
  },
  {
   "cell_type": "code",
   "execution_count": 5,
   "id": "8cafdde7",
   "metadata": {},
   "outputs": [
    {
     "data": {
      "text/plain": [
       "'2024:07:03 07:55:23.25'"
      ]
     },
     "execution_count": 5,
     "metadata": {},
     "output_type": "execute_result"
    }
   ],
   "source": [
    "precise_timestamp = f\"{datetime_original}.{subsec_time_original}\"\n",
    "precise_timestamp"
   ]
  },
  {
   "cell_type": "code",
   "execution_count": 6,
   "id": "4714bd5b",
   "metadata": {},
   "outputs": [
    {
     "data": {
      "text/plain": [
       "datetime.datetime(2024, 7, 3, 7, 55, 23, 250000)"
      ]
     },
     "execution_count": 6,
     "metadata": {},
     "output_type": "execute_result"
    }
   ],
   "source": [
    "# convert time string to timestamp\n",
    "datetime.strptime(precise_timestamp, '%Y:%m:%d %H:%M:%S.%f')"
   ]
  },
  {
   "cell_type": "markdown",
   "id": "bb1a741e",
   "metadata": {},
   "source": [
    "def extract_time(photo_path):\n",
    "    \n",
    "    with ExifTool() as et: \n",
    "        metadata = et.get_metadata(photo_path)\n",
    "        datetime_original = metadata.get(\"EXIF:DateTimeOriginal\")\n",
    "        #subsec_time_original = metadata.get(\"EXIF:SubSecTimeOriginal\")\n",
    "        #precise_timestamp = f\"{datetime_original}.{subsec_time_original}\"\n",
    "        datetime_formatted = datetime.strptime(datetime_original, '%Y:%m:%d %H:%M:%S')\n",
    "        \n",
    "        \n",
    "    # return datetime.strptime(precise_timestamp, '%Y:%m:%d %H:%M:%S.%f')\n",
    "    return datetime_formatted"
   ]
  },
  {
   "cell_type": "markdown",
   "id": "969a0427",
   "metadata": {},
   "source": [
    "## 1.2 extract timestamp for all the photos within a folder"
   ]
  },
  {
   "cell_type": "code",
   "execution_count": 10,
   "id": "6b2a2152",
   "metadata": {},
   "outputs": [],
   "source": [
    "import os\n",
    "import glob # to sort CR3 files"
   ]
  },
  {
   "cell_type": "code",
   "execution_count": 58,
   "id": "1d465ad4",
   "metadata": {},
   "outputs": [],
   "source": [
    "def extract_time_for_photos_in_one_camera(date_folder, camera):\n",
    "    # Get camera folder\n",
    "    camera_folder = os.path.join(date_folder, camera)\n",
    "\n",
    "    # Use glob to directly get only .CR3 files, sort photos\n",
    "    photo_dirs = sorted(glob.glob(os.path.join(camera_folder, \"*.CR3\")))\n",
    "    \n",
    "    # Initialize a list of tuple (photo_name, timestamp)\n",
    "    timestamps = []\n",
    "    \n",
    "    # iterate through each photo, extract datetime, and store the results into a tuple (photo_name, timestamp)\n",
    "    with ExifTool() as et: \n",
    "        for photo_dir in photo_dirs:\n",
    "            # extract meta\n",
    "            metadata = et.get_metadata(photo_dir)\n",
    "            dt_orig = metadata.get(\"EXIF:DateTimeOriginal\")\n",
    "            #subsec_time_origi = metadata.get(\"EXIF:SubSecTimeOriginal\")\n",
    "            #precise_timestamp = f\"{dt_orig}.{subsec_time_origi}\"\n",
    "            \n",
    "            # format the precise timestamp\n",
    "            #precise_formatted = datetime.strptime(precise_timestamp, '%Y:%m:%d %H:%M:%S.%f')\n",
    "            dt_format = datetime.strptime(dt_orig, '%Y:%m:%d %H:%M:%S')\n",
    "            \n",
    "            # add to the list\n",
    "            #timestamps.append((os.path.basename(photo_dir),precise_formatted))\n",
    "            timestamps.append((os.path.basename(photo_dir),dt_format))\n",
    "\n",
    "    return timestamps"
   ]
  },
  {
   "cell_type": "code",
   "execution_count": 34,
   "id": "7fa2fe99",
   "metadata": {},
   "outputs": [],
   "source": [
    "timestamps = extract_time_for_photos_in_one_camera(date_folder=\"../example-data/photos-sdcards/071224\", camera = \"top\")"
   ]
  },
  {
   "cell_type": "code",
   "execution_count": 35,
   "id": "a0a44cf5",
   "metadata": {},
   "outputs": [
    {
     "data": {
      "text/plain": [
       "[('IMG_6953.CR3', datetime.datetime(2024, 7, 3, 8, 2, 25)),\n",
       " ('IMG_6954.CR3', datetime.datetime(2024, 7, 3, 8, 4, 4)),\n",
       " ('IMG_6955.CR3', datetime.datetime(2024, 7, 3, 8, 4, 37)),\n",
       " ('IMG_6956.CR3', datetime.datetime(2024, 7, 3, 8, 7, 26)),\n",
       " ('IMG_6958.CR3', datetime.datetime(2024, 7, 3, 8, 12, 35)),\n",
       " ('IMG_6959.CR3', datetime.datetime(2024, 7, 3, 8, 14, 7)),\n",
       " ('IMG_6960.CR3', datetime.datetime(2024, 7, 3, 8, 14, 9)),\n",
       " ('IMG_6961.CR3', datetime.datetime(2024, 7, 3, 8, 14, 11)),\n",
       " ('IMG_6962.CR3', datetime.datetime(2024, 7, 3, 8, 14, 12)),\n",
       " ('IMG_6963.CR3', datetime.datetime(2024, 7, 3, 8, 14, 14)),\n",
       " ('IMG_7009.CR3', datetime.datetime(2024, 7, 3, 8, 19)),\n",
       " ('IMG_7010.CR3', datetime.datetime(2024, 7, 3, 8, 19, 12)),\n",
       " ('IMG_7011.CR3', datetime.datetime(2024, 7, 3, 8, 23, 27)),\n",
       " ('IMG_7012.CR3', datetime.datetime(2024, 7, 3, 8, 24, 12)),\n",
       " ('IMG_7013.CR3', datetime.datetime(2024, 7, 3, 8, 24, 14)),\n",
       " ('IMG_7014.CR3', datetime.datetime(2024, 7, 3, 8, 24, 15)),\n",
       " ('IMG_7015.CR3', datetime.datetime(2024, 7, 3, 8, 24, 17)),\n",
       " ('IMG_7016.CR3', datetime.datetime(2024, 7, 3, 8, 24, 19)),\n",
       " ('IMG_7017.CR3', datetime.datetime(2024, 7, 3, 8, 24, 20)),\n",
       " ('IMG_7018.CR3', datetime.datetime(2024, 7, 3, 8, 24, 22))]"
      ]
     },
     "execution_count": 35,
     "metadata": {},
     "output_type": "execute_result"
    }
   ],
   "source": [
    "timestamps"
   ]
  },
  {
   "cell_type": "markdown",
   "id": "3d8cd2b9",
   "metadata": {},
   "source": [
    "# Step2: create new folders to store images"
   ]
  },
  {
   "cell_type": "code",
   "execution_count": 14,
   "id": "48637534",
   "metadata": {},
   "outputs": [],
   "source": [
    "import os"
   ]
  },
  {
   "cell_type": "code",
   "execution_count": 15,
   "id": "39087b72",
   "metadata": {},
   "outputs": [],
   "source": [
    "# Define the folder path\n",
    "organized_photo_folder_path = \"../example-data/photos-organized\"\n",
    "\n",
    "# Create the folder (if it doesn't exist)\n",
    "os.makedirs(organized_photo_folder_path, exist_ok=True)"
   ]
  },
  {
   "cell_type": "markdown",
   "id": "5b65328f",
   "metadata": {},
   "source": [
    "# Step3: Sort photos based on the timestamps"
   ]
  },
  {
   "cell_type": "code",
   "execution_count": 16,
   "id": "3c8ba977",
   "metadata": {},
   "outputs": [],
   "source": [
    "import shutil"
   ]
  },
  {
   "cell_type": "markdown",
   "id": "ff9fcbcf",
   "metadata": {},
   "source": [
    "colorprofiles_namelabels/ → Contains the earlier photos before the continuous sequence.\\\n",
    "bottom/ → Contains the continuous set of images that have very close timestamps."
   ]
  },
  {
   "cell_type": "code",
   "execution_count": 59,
   "id": "2751db22",
   "metadata": {},
   "outputs": [],
   "source": [
    "# Function to group photos into sequences based on timestamp continuity\n",
    "def group_photos_by_timestamp(timestamps, max_time_diff=timedelta(minutes=3)):\n",
    "    \n",
    "    # create an empty list to store the sorted photos \n",
    "    groups = []\n",
    "    \n",
    "    # put photos that have similar timestamps into the same group\n",
    "    current_group = []\n",
    "\n",
    "    # iterate through each photo\n",
    "    for idx, (photo, timestamp) in enumerate(timestamps):\n",
    "        # put the first photo into the first group\n",
    "        if idx == 0:\n",
    "            current_group.append(photo)\n",
    "        # for the rest of the photos, check timestamp to decide if put this photo into the current group or a new group\n",
    "        else:\n",
    "            # get the timestamp of the previous photo\n",
    "            prev_timestamp = timestamps[idx-1][1]\n",
    "\n",
    "            # If time difference is within threshold, add to current group\n",
    "            if timestamp - prev_timestamp <= max_time_diff:\n",
    "                current_group.append(photo)\n",
    "            else:\n",
    "                groups.append(current_group)  # Store completed group\n",
    "                current_group = [photo]  # Start new group\n",
    "\n",
    "    # Append the last group if not empty\n",
    "    if current_group:\n",
    "        groups.append(current_group)\n",
    "\n",
    "    return groups\n"
   ]
  },
  {
   "cell_type": "code",
   "execution_count": 36,
   "id": "af2f9ee6",
   "metadata": {},
   "outputs": [],
   "source": [
    "groups = group_photos_by_timestamp(timestamps, max_time_diff=timedelta(minutes=3))"
   ]
  },
  {
   "cell_type": "code",
   "execution_count": 37,
   "id": "f1b57ecb",
   "metadata": {},
   "outputs": [
    {
     "data": {
      "text/plain": [
       "[['IMG_6953.CR3', 'IMG_6954.CR3', 'IMG_6955.CR3', 'IMG_6956.CR3'],\n",
       " ['IMG_6958.CR3',\n",
       "  'IMG_6959.CR3',\n",
       "  'IMG_6960.CR3',\n",
       "  'IMG_6961.CR3',\n",
       "  'IMG_6962.CR3',\n",
       "  'IMG_6963.CR3'],\n",
       " ['IMG_7009.CR3', 'IMG_7010.CR3'],\n",
       " ['IMG_7011.CR3',\n",
       "  'IMG_7012.CR3',\n",
       "  'IMG_7013.CR3',\n",
       "  'IMG_7014.CR3',\n",
       "  'IMG_7015.CR3',\n",
       "  'IMG_7016.CR3',\n",
       "  'IMG_7017.CR3',\n",
       "  'IMG_7018.CR3']]"
      ]
     },
     "execution_count": 37,
     "metadata": {},
     "output_type": "execute_result"
    }
   ],
   "source": [
    "groups"
   ]
  },
  {
   "cell_type": "markdown",
   "id": "90335903",
   "metadata": {},
   "source": [
    "# Step 4: copy photos from sd card folders to new folders based on the sorted result"
   ]
  },
  {
   "cell_type": "code",
   "execution_count": 60,
   "id": "282d5f4c",
   "metadata": {},
   "outputs": [],
   "source": [
    "def sort_photos(groups, camera, date_folder, sorted_folder):\n",
    "    # get the number of groups from the last function\n",
    "    num_groups = len(groups)\n",
    "    \n",
    "    # I want to create a bunch of flower models to store photos from the same flower\n",
    "    # In each flower model, there are three folders\n",
    "    # cameras (bottom, middle or top)\n",
    "    # For each date, there is a color profile folder:\n",
    "    # which store photos that might contain color profiles or sample labels\n",
    "    \n",
    "    # set flower folder index (flower1, flower2, flower3 for different flowers)\n",
    "    flower_idx = 1\n",
    "    \n",
    "    # set group index (from 0, 1, 2, to the num_groups)\n",
    "    group_idx = 0\n",
    "    \n",
    "    # iterate each group in groups\n",
    "    while group_idx < num_groups:\n",
    "        # create a new flower folder with its two subfolders\n",
    "        flower_folder = os.path.join(sorted_folder, f\"flower{flower_idx}\")\n",
    "        colorprofiles_folder = os.path.join(sorted_folder, \"colorprofiles_namelabels\", f\"flower{flower_idx}\", camera)\n",
    "        camera_folder = os.path.join(flower_folder, camera)\n",
    "        \n",
    "        # create if not exist\n",
    "        os.makedirs(colorprofiles_folder, exist_ok=True)\n",
    "        os.makedirs(camera_folder, exist_ok=True)\n",
    "        \n",
    "        # In each group, assign consecutive small groups (fewer than 6 images) to the colorprofile folder\n",
    "        group = groups[group_idx]\n",
    "        \n",
    "        if len(group) < 6:\n",
    "            # copy photo to the colorprofile folder\n",
    "            for photo in group:\n",
    "                photo_path = os.path.join(date_folder, camera, photo)\n",
    "                shutil.copy(photo_path, colorprofiles_folder)\n",
    "\n",
    "        # if the next group is large (6 or more images), assign it to the camera folder.\n",
    "        else:\n",
    "            # copy photo to the camera_folder\n",
    "            for photo in group:\n",
    "                photo_path = os.path.join(date_folder, camera, photo)\n",
    "                shutil.copy(photo_path, camera_folder)\n",
    "            \n",
    "            # move to the next flower\n",
    "            flower_idx += 1\n",
    "            \n",
    "        # move to the next group\n",
    "        group_idx += 1"
   ]
  },
  {
   "cell_type": "code",
   "execution_count": 39,
   "id": "3e40531f",
   "metadata": {},
   "outputs": [],
   "source": [
    "sort_photos(groups, camera = \"top\", date_folder = \"../example-data/photos-sdcards/071224\", \n",
    "                sorted_folder=\"../example-data/photos-organized/\")"
   ]
  },
  {
   "cell_type": "markdown",
   "id": "c71d2130",
   "metadata": {},
   "source": [
    "# Step 5: check bugs if each flower has three camera folders"
   ]
  },
  {
   "cell_type": "code",
   "execution_count": 64,
   "id": "96ae7c68",
   "metadata": {},
   "outputs": [
    {
     "data": {
      "text/plain": [
       "['colorprofiles_namelabels', 'flower1', 'flower2']"
      ]
     },
     "execution_count": 64,
     "metadata": {},
     "output_type": "execute_result"
    }
   ],
   "source": [
    "os.listdir(sorted_folder)"
   ]
  },
  {
   "cell_type": "code",
   "execution_count": 75,
   "id": "04c61001",
   "metadata": {},
   "outputs": [],
   "source": [
    "def check_bugs(sorted_folder):\n",
    "    \n",
    "    # Create or open the bug.txt file to log missing folders\n",
    "    with open(os.path.join(os.path.dirname(sorted_folder),'bug.txt'), 'a') as bug_file:\n",
    "    \n",
    "        subfolders = os.listdir(sorted_folder)\n",
    "        \n",
    "        # iterate each subfolder\n",
    "        for subfolder in subfolders:\n",
    "            subfolder_dir = os.path.join(sorted_folder, subfolder)\n",
    "\n",
    "            # go to flower folder\n",
    "            if subfolder.startswith(\"flower\"):\n",
    "                # Check for the presence of the \"top\", \"middle\", and \"bottom\" cameras\n",
    "                missing_cameras = []\n",
    "                required_cameras = [\"top\", \"middle\", \"bottom\"]\n",
    "\n",
    "                # Check each required camera\n",
    "                for camera in required_cameras:\n",
    "                    if not os.path.isdir(os.path.join(subfolder_dir, camera)):\n",
    "                        missing_cameras.append(camera)\n",
    "\n",
    "                    # If any required subfolder is missing, log the issue in bug.txt\n",
    "                    if missing_cameras:\n",
    "                        bug_file.write(f\"{subfolder_dir} is missing: {', '.join(missing_cameras)} camera\\n. Please go to species's corresponding colorprofile_namelabels to check.\\n\")\n"
   ]
  },
  {
   "cell_type": "code",
   "execution_count": null,
   "id": "9434138d",
   "metadata": {},
   "outputs": [],
   "source": []
  },
  {
   "cell_type": "markdown",
   "id": "99d2136d",
   "metadata": {},
   "source": [
    "# Test"
   ]
  },
  {
   "cell_type": "markdown",
   "id": "6677c3ef",
   "metadata": {},
   "source": [
    "three time differences\n",
    "- within color profiles\n",
    "- within the same flower between color profile and flowers\n",
    "- between flowers"
   ]
  },
  {
   "cell_type": "markdown",
   "id": "cae82f54",
   "metadata": {},
   "source": [
    "def test (timestamps, camera_time = timedelta(minutes=1), flower_time = timedelta(minutes=3)\n",
    "          camera, date_folder, sorted_folder):\n",
    "    \n",
    "    # iterate through each photo\n",
    "    for idx, (photo, timestamp) in enumerate(timestamps):\n",
    "        # put the first photo into color profiles\n",
    "        if idx == 0:\n",
    "            # create a new flower folder\n",
    "            flower_folder = os.path.join(sorted_folder, f\"flower{flower_idx}\")\n",
    "            colorprofiles_folder = os.path.join(sorted_folder, \"colorprofiles_namelabels\", f\"flower{flower_idx}\", camera)\n",
    "            #camera_folder = os.path.join(flower_folder, camera)\n",
    "\n",
    "            # create if not exist\n",
    "            os.makedirs(colorprofiles_folder, exist_ok=True)\n",
    "            #os.makedirs(camera_folder, exist_ok=True)\n",
    "            \n",
    "            photo_path = os.path.join(date_folder, camera, photo)\n",
    "            shutil.copy(photo_path, colorprofiles_folder)\n",
    "        \n",
    "        else:\n",
    "            # check time differences, it time difference is smaller than 1 min\n",
    "            # cr\n",
    "            \n",
    "            \n",
    "            \n",
    "            \n",
    "            current_group.append(photo)\n",
    "        # for the rest of the photos, check timestamp to decide if put this photo into the current group or a new group\n",
    "        else:\n",
    "            # get the timestamp of the previous photo\n",
    "            prev_timestamp = timestamps[idx-1][1]\n",
    "\n",
    "            # If time difference is within threshold, add to current group\n",
    "            if timestamp - prev_timestamp <= max_time_diff:\n",
    "                current_group.append(photo)\n",
    "            else:\n",
    "                groups.append(current_group)  # Store completed group\n",
    "                current_group = [photo]  # Start new group\n",
    "\n",
    "    # Append the last group if not empty\n",
    "    if current_group:\n",
    "        groups.append(current_group)"
   ]
  },
  {
   "cell_type": "code",
   "execution_count": null,
   "id": "5a290c3f",
   "metadata": {},
   "outputs": [],
   "source": []
  },
  {
   "cell_type": "markdown",
   "id": "a5530755",
   "metadata": {},
   "source": [
    "# Summary"
   ]
  },
  {
   "cell_type": "code",
   "execution_count": 62,
   "id": "7c2e3ae8",
   "metadata": {},
   "outputs": [],
   "source": [
    "sdcard_folder = \"../example-data/photos-sdcards/\"\n",
    "dates = os.listdir(sdcard_folder)\n",
    "cameras = [\"bottom\", \"middle\", \"top\"]\n",
    "output_folder = \"../example-data/photos-organized/\""
   ]
  },
  {
   "cell_type": "code",
   "execution_count": 74,
   "id": "0934b167",
   "metadata": {},
   "outputs": [],
   "source": [
    "for date in dates:\n",
    "    date_folder = os.path.join(sdcard_folder, date)\n",
    "    sorted_folder = os.path.join(output_folder, date)\n",
    "    for camera in cameras:\n",
    "        timestamps = extract_time_for_photos_in_one_camera(date_folder = date_folder, camera = camera)\n",
    "        groups = group_photos_by_timestamp(timestamps, max_time_diff=timedelta(minutes=3))\n",
    "        sort_photos(groups, camera = camera, date_folder = date_folder, \n",
    "                    sorted_folder=sorted_folder)\n",
    "    # check bugs\n",
    "    check_bugs(sorted_folder)"
   ]
  },
  {
   "cell_type": "code",
   "execution_count": null,
   "id": "243efac4",
   "metadata": {},
   "outputs": [],
   "source": []
  },
  {
   "cell_type": "code",
   "execution_count": null,
   "id": "f8cb2e55",
   "metadata": {},
   "outputs": [],
   "source": []
  }
 ],
 "metadata": {
  "kernelspec": {
   "display_name": "Python 3 (ipykernel)",
   "language": "python",
   "name": "python3"
  },
  "language_info": {
   "codemirror_mode": {
    "name": "ipython",
    "version": 3
   },
   "file_extension": ".py",
   "mimetype": "text/x-python",
   "name": "python",
   "nbconvert_exporter": "python",
   "pygments_lexer": "ipython3",
   "version": "3.9.9"
  }
 },
 "nbformat": 4,
 "nbformat_minor": 5
}
